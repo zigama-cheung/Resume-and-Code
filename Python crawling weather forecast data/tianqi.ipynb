{
 "cells": [
  {
   "cell_type": "code",
   "execution_count": 1,
   "metadata": {
    "collapsed": true
   },
   "outputs": [],
   "source": [
    "import pandas as pd\n",
    "import requests\n",
    "from bs4 import BeautifulSoup"
   ]
  },
  {
   "cell_type": "code",
   "execution_count": 36,
   "metadata": {},
   "outputs": [
    {
     "name": "stdout",
     "output_type": "stream",
     "text": [
      "\r\n",
      "<!DOCTYPE html PUBLIC \"-//W3C//DTD XHTML 1.0 Transitional//EN\" \"http://www.w3.org/TR/xhtml1/DTD/xhtml1-transitional.dtd\">\r\n",
      "<html xmlns=\"http://www.w3.org/1999/xhtml\">\r\n",
      "<head><title>\r\n",
      "\t10月23日全州天气_全州2019年10月23日天气预报_天气后报\r\n",
      "</title><link href=\"../css/g.css\" rel=\"stylesheet\" type=\"text/css\" media=\"all\" /><meta http-equiv=\"Content-Type\" content=\"text/html; charset=utf-8\" /><meta name=\"Keywords\" content=\"全州10月23日天气,过去天气,全州天气记录,2019年10月23日\" /><meta name=\"description\" content=\"天气后报网提供广西全州10月23日天气查询,2019年10月23日全州天气预报查询,天气记录包含最高温度、最低气温、天气情况、风力风向等天气指标\" /></head>\r\n",
      "<body>\r\n",
      "    <form name=\"form1\" method=\"post\" action=\"/lishi/gxquanzhou/20191023.html\" id=\"form1\">\r\n",
      "<div>\r\n",
      "<input type=\"hidden\" name=\"__VIEWSTATE\" id=\"__VIEWSTATE\" value=\"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\" />\r\n",
      "</div>\r\n",
      "\r\n",
      "        <div>\r\n",
      "            <div id=\"top\">\r\n",
      "                <div class=\"bd doc\">\r\n",
      "                    <a href=\"http://www.tianqihoubao.com/\" class=\"home\">天气后报首页</a> | <a href=\"http://www.tianqihoubao.com/tqhb/index.aspx\"\r\n",
      "                        target=\"_blank\">客户端下载</a> |\r\n",
      "                    <div class=\"r\">\r\n",
      "                    <a  href=\"/calendar/calendar.htm\" target=\"_blank\"  title=\"万年历，可查各城市日出日落时间\">万年历</a>|\r\n",
      "                        <a href=\"http://www.mingzhuxiaoshuo.com/\" target=\"_blank\">小说阅读</a> \r\n",
      "                    </div>\r\n",
      "                </div>\r\n",
      "            </div>\r\n",
      "            <!--导航 begin-->\r\n",
      "            <div class=\"nav_mod\">\r\n",
      "                <ul>\r\n",
      "                 <li><a href=\"http://www.tianqihoubao.com\">首页</a></li>\r\n",
      "                <li><a class=\"current\" href=\"/lishi/\">历史天气</a></li>\r\n",
      "                <li><a href=\"/guoji/\" title=\"国际历史天气查询\">国际天气</a></li>\r\n",
      "                <li><a href=\"/yubao/\">天气预报</a></li>\r\n",
      "                <li><a href=\"/aqi/\" title=\"AQI-PM2.5查询\">空气质量</a></li>\r\n",
      "                <li><a href=\"/news/\" title=\"天气新闻\">天气新闻</a></li>\r\n",
      "                <li><a href=\"/tqhb/index.aspx\" target=\"_blank\" title=\"历史天气查询软件\">天气后报</a></li>\r\n",
      "                <li><a href=\"/qihou/\">气候信息</a></li>\r\n",
      "                </ul>\r\n",
      "                <span class=\"n_r\"></span>\r\n",
      "            </div>\r\n",
      "            <!--导航 end-->\r\n",
      "            <div id=\"mnav\" class=\"doc\">\r\n",
      "                <div class=\"hd\">\r\n",
      "                    <a href=\"http://www.tianqihoubao.com/\">天气后报</a> &gt; \r\n",
      "                    <a href=\"/lishi/guangxi.htm\">广西历史天气</a>&gt; <a href=\"/lishi/gxquanzhou.html\" title=\"全州历史天气查询\" >\r\n",
      "                            全州历史天气</a> &gt; 2019年10月23日全州天气\r\n",
      "                            \r\n",
      "                            </div>\r\n",
      "                <div class=\"bd\">\r\n",
      "                </div>\r\n",
      "            </div>\r\n",
      "            <div class=\"doc\">\r\n",
      "<script type=\"text/javascript\" src=\"http://www.tianqihoubao.com/AD/lishi_960_90.js\"></script>\r\n",
      "            </div>\r\n",
      "            <div style=\"height:5px\"></div> \r\n",
      "            <div id=\"bd\" class=\"doc\">\r\n",
      "                <div class=\"hd\">\r\n",
      "                    <div id=\"content\" class=\"wdetail\">\r\n",
      "                        <h1>\r\n",
      "                            2019年10月23日全州天气预报查询 \r\n",
      "                        </h1>\r\n",
      "                        <div class=\"desc\">\r\n",
      "                        \r\n",
      "                        </div>\r\n",
      "                        <table width=\"100%\" border=\"0\" class=\"b\" cellpadding=\"1\" cellspacing=\"1\">\r\n",
      "                            <tr>\r\n",
      "                                <th>\r\n",
      "                                    &nbsp;</th>\r\n",
      "                                <th>白天</th>\r\n",
      "                                <th>夜晚</th>\r\n",
      "                            </tr>\r\n",
      "                            <tr>\r\n",
      "                                <td>\r\n",
      "                                    <b>天气状况</b></td>\r\n",
      "                                <td>\r\n",
      "                                    <img src='/legend/light_rain.gif' alt='小雨' width='48' class='legend' /><br />\r\n",
      "                                    小雨\r\n",
      "                                </td>\r\n",
      "                                <td>\r\n",
      "                                    <img src='/legend/cloudy_1.gif' alt='多云' width='48' class='legend' /><br />\r\n",
      "                                    多云\r\n",
      "                                </td>\r\n",
      "                            </tr>\r\n",
      "                            <tr>\r\n",
      "                                <td>\r\n",
      "                                    <b>温度/气温</b></td>\r\n",
      "                                <td style=\"color:#E54600\" ><b>18℃</b></td>\r\n",
      "                                <td style=\"color:#000065\"><b>15℃</b></td>\r\n",
      "                            </tr>\r\n",
      "                            <tr>\r\n",
      "                                <td><b>风力风向</b></td>\r\n",
      "                                <td>北风 1-2级</td>\r\n",
      "                                <td>北风 1-2级</td>\r\n",
      "                            </tr>\r\n",
      "                        </table>\r\n",
      "                         <div style=\"height:5px\"></div> \r\n",
      "\t\t\t\t\t\t \r\n",
      " <div style=\"height:5px\"></div> \r\n",
      "                        <b>阳历</b>: 2019年10月23日 &nbsp;&nbsp;&nbsp;<b>农历</b>: 己亥[猪]年九月廿五 &nbsp;&nbsp;&nbsp;&nbsp;<b>星座</b>: 天蝎座<br />\r\n",
      "                        <b>宜</b>: <font color=blue>会亲友、嫁娶、订盟、纳采、纳婿、拆卸、修造、动土、起基、竖柱、上梁、安床、会亲友、纳财</font><br/> <b>忌</b>: <font color=red>出行、祈福、安葬、作灶</font>\r\n",
      "                        <div class=\"hr\">\r\n",
      "                        </div>\r\n",
      "                        <p >\r\n",
      "                       \r\n",
      "                            <a href=\"/lishi/gxquanzhou/20191022.html\">全州2019年10月22日天气</a> - \r\n",
      "                            <a href=\"/lishi/gxquanzhou/20191024.html\">全州2019年10月24日天气</a> - \r\n",
      "                            <a href=\"/yubao/gxquanzhou.html\" title=\"全州天气预报\">全州天气预报</a> - \r\n",
      "                            <a href=\"/lishi/gxquanzhou/month/201910.html\">2019年10月全州天气</a>\r\n",
      "\r\n",
      "                       <script async src=\"//pagead2.googlesyndication.com/pagead/js/adsbygoogle.js\"></script>\r\n",
      "<!-- tqhb_link_190224_left -->\r\n",
      "<ins class=\"adsbygoogle\"\r\n",
      "     style=\"display:block\"\r\n",
      "     data-ad-client=\"ca-pub-4334685396432654\"\r\n",
      "     data-ad-slot=\"8915865981\"\r\n",
      "     data-ad-format=\"link\"\r\n",
      "     data-full-width-responsive=\"true\"></ins>\r\n",
      "<script>\r\n",
      "(adsbygoogle = window.adsbygoogle || []).push({});\r\n",
      "</script>\r\n",
      "                        </p>\r\n",
      "                        <div class=\"hr\"></div>\r\n",
      "                        <script type=\"text/javascript\" src=\"http://www.tianqihoubao.com/AD/lishi_670_90.js\"></script>\r",
      "\r\n",
      "                    </div>\r\n",
      "                    \r\n",
      "                    <div id=\"cnt1\">\r\n",
      "                    </div>\r\n",
      "\r\n",
      "                    <div class=\"box p\">\r\n",
      "                        <h2>\r\n",
      "                            省份历史天气查询</h2>\r\n",
      "                        <ul>\r\n",
      "                            <li class=\"t h\">省份</li>\r\n",
      "                            <li><a href='/lishi/heilongjiang.htm'>黑龙江</a></li>\r\n",
      "                            <li><a href='/lishi/jl.htm'>吉林</a></li>\r\n",
      "                            <li><a href='/lishi/ln.htm'>辽宁</a></li>\r\n",
      "                            <li><a href='/lishi/neimenggu.htm'>内蒙古</a></li>\r\n",
      "                            <li><a href='/lishi/hebei.htm'>河北</a></li>\r\n",
      "                            <li><a href='/lishi/shanxi.htm'>山西</a></li>\r\n",
      "                            <li><a href='/lishi/sxi.htm'>陕西</a></li>\r\n",
      "                            <li><a href='/lishi/shandong.htm'>山东</a></li>\r\n",
      "                            <li><a href='/lishi/xinjiang.htm'>新疆</a></li>\r\n",
      "                            <li><a href='/lishi/xizang.htm'>西藏</a></li>\r\n",
      "                            <li><a href='/lishi/qinghai.htm'>青海</a> </li>\r\n",
      "                            <li><a href='/lishi/gansu.htm'>甘肃</a></li>\r\n",
      "                            <li><a href='/lishi/ningxia.htm'>宁夏</a></li>\r\n",
      "                            <li><a href='/lishi/henan.htm'>河南</a></li>\r\n",
      "                            <li><a href='/lishi/jiangsu.htm'>江苏</a></li>\r\n",
      "                            <li><a href='/lishi/hubei.htm'>湖北</a></li>\r\n",
      "                            <li><a href='/lishi/zhejiang.htm'>浙江</a></li>\r\n",
      "                            <li><a href='/lishi/anhui.htm'>安徽</a></li>\r\n",
      "                            <li><a href='/lishi/fujian.htm'>福建</a></li>\r\n",
      "                            <li><a href='/lishi/jiangxi.htm'>江西</a></li>\r\n",
      "                            <li><a href='/lishi/hunan.htm'>湖南</a></li>\r\n",
      "                            <li><a href='/lishi/guizhou.htm'>贵州</a></li>\r\n",
      "                            <li><a href='/lishi/sichuan.htm'>四川</a></li>\r\n",
      "                            <li><a href='/lishi/guangdong.htm'>广东</a></li>\r\n",
      "                            <li><a href='/lishi/yunan.htm'>云南</a></li>\r\n",
      "                            <li><a href='/lishi/guangxi.htm'>广西</a></li>\r\n",
      "                            <li><a href='/lishi/hainan.htm'>海南</a></li>\r\n",
      "                        </ul>\r\n",
      "                        <ul>\r\n",
      "                            <li class=\"t\">直辖市</li>\r\n",
      "                            <li><a href='/lishi/bj.htm'>北京</a></li>\r\n",
      "                            <li><a href='/lishi/sh.htm'>上海</a></li>\r\n",
      "                            <li><a href='/lishi/tj.htm'>天津</a></li>\r\n",
      "                            <li><a href='/lishi/cq.htm'>重庆</a></li>\r\n",
      "                        </ul>\r\n",
      "                        <ul>\r\n",
      "                           <li class=\"t\">港澳台</li>\r\n",
      "                            <li><a href='/lishi/xg.htm'>香港</a></li>\r\n",
      "                            <li><a href='/lishi/am.htm'>澳门</a></li>\r\n",
      "                            <li><a href='/lishi/taiwan.htm'>台湾</a></li>\r\n",
      "                           \r\n",
      "                        </ul>\r\n",
      "                    </div>\r\n",
      "                    \r\n",
      "                </div>\r\n",
      "                <div class=\"bd\">\r\n",
      "                   <script type=\"text/javascript\" src=\"http://www.tianqihoubao.com/AD/lishi_300_250_2.js\"></script>\r",
      "\r\n",
      "                    <div id=\"sad1\">\r\n",
      "                    </div>\r\n",
      "                    <div class=\"box pcity\">\r\n",
      "\t\t<h2>全州周边城市2019年10月23日天气</h2>\r\n",
      "\t\t<ul>\r\n",
      "\t\t<li><a href='/lishi/guilin/20191023.html' >桂林10月23日天气</li><li><a href='/lishi/yangshuo/20191023.html' >阳朔10月23日天气</li><li><a href='/lishi/lingui/20191023.html' >临桂10月23日天气</li><li><a href='/lishi/lingchuan/20191023.html' >灵川10月23日天气</li><li><a href='/lishi/gxquanzhou/20191023.html' >全州10月23日天气</li><li><a href='/lishi/xingan/20191023.html' >兴安10月23日天气</li><li><a href='/lishi/yongfu/20191023.html' >永福10月23日天气</li><li><a href='/lishi/guanyang/20191023.html' >灌阳10月23日天气</li><li><a href='/lishi/longsheng/20191023.html' >龙胜10月23日天气</li><li><a href='/lishi/ziyuan/20191023.html' >资源10月23日天气</li><li><a href='/lishi/pingle/20191023.html' >平乐10月23日天气</li><li><a href='/lishi/lipu/20191023.html' >荔浦10月23日天气</li><li><a href='/lishi/gongcheng/20191023.html' >恭城10月23日天气</li>\r\n",
      "\t\t</ul></div>\t\r\n",
      "\t\t<!--AD 300*250--->\r",
      "\r",
      "<div style=\"height:5px\"></div> \r\n",
      "                  <div class=\"box pcity\">\r\n",
      "                            <h2>\r\n",
      "                                主要城市天气预报</h2>\r\n",
      "                            <ul>\r\n",
      "                                <li><a href='/yubao/beijing.html'>北京</a></li>\r\n",
      "                                <li><a href='/yubao/shanghai.html'>上海</a></li>\r\n",
      "                                <li><a href='/yubao/tianjin.html'>天津</a></li>\r\n",
      "                                <li><a href='/yubao/chongqing.html'>重庆</a></li>\r\n",
      "                                <li><a href='/yubao/haerbin.html'>哈尔滨</a></li>\r\n",
      "                                <li><a href='/yubao/changchun.html'>长春</a></li>\r\n",
      "                                <li><a href='/yubao/shenyang.html'>沈阳</a></li>\r\n",
      "                                <li><a href='/yubao/huhehaote.html'>呼和浩特</a></li>\r\n",
      "                                <li><a href='/yubao/shijiazhuang.html'>石家庄</a></li>\r\n",
      "                                <li><a href='/yubao/taiyuan.html'>太原</a></li>\r\n",
      "                                <li><a href='/yubao/xian.html'>西安</a></li>\r\n",
      "                                <li><a href='/yubao/jinan.html'>济南</a></li>\r\n",
      "                                <li><a href='/yubao/wulumuqi.html'>乌鲁木齐</a></li>\r\n",
      "                                <li><a href='/yubao/lasa.html'>拉萨</a></li>\r\n",
      "                                <li><a href='/yubao/xining.html'>西宁</a></li>\r\n",
      "                                <li><a href='/yubao/lanzhou.html'>兰州</a></li>\r\n",
      "                                <li><a href='/yubao/yinchuan.html'>银川</a></li>\r\n",
      "                                <li><a href='/yubao/zhengzhou.html'>郑州</a></li>\r\n",
      "                                <li><a href='/yubao/nanjing.html'>南京</a></li>\r\n",
      "                                <li><a href='/yubao/wuhan.html'>武汉</a></li>\r\n",
      "                                <li><a href='/yubao/hangzhou.html'>杭州</a></li>\r\n",
      "                                <li><a href='/yubao/hefei.html'>合肥</a></li>\r\n",
      "                                <li><a href='/yubao/fujianfuzhou.html'>福州</a></li>\r\n",
      "                                <li><a href='/yubao/nanchang.html'>南昌</a></li>\r\n",
      "                                <li><a href='/yubao/changsha.html'>长沙</a></li>\r\n",
      "                                <li><a href='/yubao/guiyang.html'>贵阳</a></li>\r\n",
      "                                <li><a href='/yubao/chengdu.html'>成都</a></li>\r\n",
      "                                <li><a href='/yubao/guangzhou.html'>广州</a></li>\r\n",
      "                                <li><a href='/yubao/kunming.html'>昆明</a></li>\r\n",
      "                                <li><a href='/yubao/nanning.html'>南宁</a></li>\r\n",
      "                                <li><a href='/yubao/shenzhen.html'>深圳</a></li>\r\n",
      "                            </ul>\r\n",
      "                        </div>\r\n",
      "\r\n",
      "                    <div id=\"sad2\">\r\n",
      "                    </div>\r\n",
      "                   <!--<img src=\"http://www.tianqihoubao.com/images/tianqi.jpg\"  width=\"300\" height=\"360\">\r",
      "-->\r\n",
      "                    <div class=\"box news\">\r\n",
      "                        <h3>\r\n",
      "                            全州天气新闻</h3>\r\n",
      "                        <ul>\r\n",
      "                             \r\n",
      "                                <li><a href='/news/1333.html' title=\"NASA警告：创纪录低温即将来临\" target=\"_blank\">NASA警告：创纪录低温即将来临</a>&nbsp;(20181118)</li>\r\n",
      "                                        \r\n",
      "                                <li><a href='/news/1332.html' title=\"二十四节气：雨水时间（1900-2099）\" target=\"_blank\">二十四节气：雨水时间（1900-2099</a>&nbsp;(20171014)</li>\r\n",
      "                                        \r\n",
      "                                <li><a href='/news/1330.html' title=\"二十四节气的英文名\" target=\"_blank\">二十四节气的英文名</a>&nbsp;(20171013)</li>\r\n",
      "                                        \r\n",
      "                                <li><a href='/news/1331.html' title=\"二十四节气：立春时间（1900-2099）\" target=\"_blank\">二十四节气：立春时间（1900-2099</a>&nbsp;(20171013)</li>\r\n",
      "                                        \r\n",
      "                                <li><a href='/news/1328.html' title=\"2017年24节气时间表（全）\" target=\"_blank\">2017年24节气时间表（全）</a>&nbsp;(20170712)</li>\r\n",
      "                                        \r\n",
      "                                <li><a href='/news/1329.html' title=\"二十四节气歌\" target=\"_blank\">二十四节气歌</a>&nbsp;(20170712)</li>\r\n",
      "                                        \r\n",
      "                                <li><a href='/news/1327.html' title=\"2017年三伏天从什么时候开始_2017三伏天有多少天?\" target=\"_blank\">2017年三伏天从什么时候开始_2017</a>&nbsp;(20170705)</li>\r\n",
      "                                        \r\n",
      "                                <li><a href='/news/1006.html' title=\"北京春节天气_2017年北京春节天气预报\" target=\"_blank\">北京春节天气_2017年北京春节天气预报</a>&nbsp;(20161223)</li>\r\n",
      "                                        \r\n",
      "                                <li><a href='/news/1007.html' title=\"天津春节天气_2017年天津春节天气预报\" target=\"_blank\">天津春节天气_2017年天津春节天气预报</a>&nbsp;(20161223)</li>\r\n",
      "                                        \r\n",
      "                                <li><a href='/news/1008.html' title=\"石家庄春节天气_2017年石家庄春节天气预报\" target=\"_blank\">石家庄春节天气_2017年石家庄春节天气</a>&nbsp;(20161223)</li>\r\n",
      "                                        \r\n",
      "                        </ul>\r\n",
      "                    </div>\r\n",
      "                    <div id=\"sad3\">\r\n",
      "                    </div>\r\n",
      "                    <div class=\"box\">\r\n",
      "                        <h3>全州简介</h3>\r\n",
      "                        <div class=\"con\">\r\n",
      "                            邮政编码：541500<br />\r\n",
      "                            电话区号：<br />\r\n",
      "                            <a href=\"#\">查看详情</a> <a href=\"/yubao/gxquanzhou.html\">\r\n",
      "                                全州天气</a>\r\n",
      "                        </div>\r\n",
      "                    </div>\r\n",
      "                    <div id=\"sad0\">\r\n",
      "                    </div>\r\n",
      "                </div>\r\n",
      "            </div>\r\n",
      "            <div id=\"ftad\" class=\"doc\">\r\n",
      "            </div>\r\n",
      "            <div id=\"ft\">\r\n",
      "                <div class=\"doc\">\r\n",
      "                    <p><a href=\"/lishi/\">历史天气查询</a> |<a href=\"/aqi/\">空气质量指数(AQI)</a> |\r\n",
      "                        <a href=\"/page/about.htm\" rel=\"nofollow\">关于我们</a> | <a href=\"/page/mianze.htm\" rel=\"nofollow\">\r\n",
      "                            免责声明</a> | <a href=\"/page/link.htm\">友情链接</a> | <a href=\"/page/sitemap.htm\">网站地图</a>\r\n",
      "                        | <a target=\"_blank\" href=\"http://wpa.qq.com/msgrd?v=3&uin=1968509554&site=qq&menu=yes\">\r\n",
      "                            <img border=\"0\" src=\"http://wpa.qq.com/pa?p=2:1968509554:41 &r=0.9811456883326173\"\r\n",
      "                                alt=\"天气后报客服\" title=\"天气后报客服\"></a> |\r\n",
      "                    </p>\r\n",
      "                    <p>\r\n",
      "                        Copyright 2013-2014 <a href=\"http://www.tianqihoubao.com/\">www.tianqihoubao.com</a> .\r\n",
      "                        All Rights Reserved <a href=\"http://www.miibeian.gov.cn/\" target=\"_blank\">苏ICP备12028315号-2</a>\r\n",
      "<script type=\"text/javascript\" src=\"http://www.tianqihoubao.com/AD/lishi_xf.js\"></script>\r\n",
      "                        <script type=\"text/javascript\">\r\n",
      "var _bdhmProtocol = ((\"https:\" == document.location.protocol) ? \" https://\" : \" http://\");\r\n",
      "document.write(unescape(\"%3Cscript src='\" + _bdhmProtocol + \"hm.baidu.com/h.js%3Ff48cedd6a69101030e93d4ef60f48fd0' type='text/javascript'%3E%3C/script%3E\"));\r\n",
      "                        </script>\r\n",
      "\r\n",
      "                        <script language=\"javascript\" type=\"text/javascript\" src=\"http://js.users.51.la/4560568.js\"></script>\r\n",
      "\r\n",
      "                    </p>\r\n",
      "                </div>\r\n",
      "            </div>\r\n",
      "       \r\n",
      "     </div>\r\n",
      "    </form>\r\n",
      "    <!-- Baidu Button BEGIN -->\n",
      "<script type=\"text/javascript\" id=\"bdshare_js\" data=\"type=slide&img=6&pos=left&uid=653932\" ></script>\n",
      "<script type=\"text/javascript\" id=\"bdshell_js\"></script>\n",
      "<script type=\"text/javascript\">\n",
      "\t\tvar bds_config = {\"bdTop\":153};\n",
      "\t\tdocument.getElementById(\"bdshell_js\").src = \"http://share.baidu.com/static/js/shell_v2.js?cdnversion=\" + new Date().getHours();\n",
      "</script>\n",
      "<!-- Baidu Button END -->\r\n",
      "</body>\r\n",
      "</html>\r\n",
      "\n"
     ]
    }
   ],
   "source": [
    "#获取新闻正文详情页面信息\n",
    "newsurl='http://www.tianqihoubao.com/lishi/gxquanzhou/20191023.html'\n",
    "header={'User-Agent':'Mozilla/5.0 (Windows NT 10.0; Win64; x64) AppleWebKit/537.36 (KHTML, like Gecko) Chrome/69.0.3497.100 Safari/537.36'}\n",
    "res=requests.get(newsurl, headers=header)\n",
    "#res.encoding='utf-8'\n",
    "print(res.text)"
   ]
  },
  {
   "cell_type": "code",
   "execution_count": 37,
   "metadata": {
    "collapsed": true
   },
   "outputs": [],
   "source": [
    "#使用BeautifulSoup进行解析\n",
    "soup = BeautifulSoup(res.text,'html.parser')"
   ]
  },
  {
   "cell_type": "code",
   "execution_count": 38,
   "metadata": {},
   "outputs": [
    {
     "data": {
      "text/plain": [
       "'2019年10月23日全州天气预报查询'"
      ]
     },
     "execution_count": 38,
     "metadata": {},
     "output_type": "execute_result"
    }
   ],
   "source": [
    "#获取标题\n",
    "title = soup.select('.wdetail h1')[0].text.strip()\n",
    "title"
   ]
  },
  {
   "cell_type": "code",
   "execution_count": 39,
   "metadata": {},
   "outputs": [
    {
     "data": {
      "text/plain": [
       "'小雨'"
      ]
     },
     "execution_count": 39,
     "metadata": {},
     "output_type": "execute_result"
    }
   ],
   "source": [
    "#白天天气\n",
    "baitian = soup.select('.legend')[0]['alt']\n",
    "baitian"
   ]
  },
  {
   "cell_type": "code",
   "execution_count": 40,
   "metadata": {},
   "outputs": [
    {
     "data": {
      "text/plain": [
       "'多云'"
      ]
     },
     "execution_count": 40,
     "metadata": {},
     "output_type": "execute_result"
    }
   ],
   "source": [
    "#夜晚天气\n",
    "yewan = soup.select('.legend')[1]['alt']\n",
    "yewan"
   ]
  },
  {
   "cell_type": "code",
   "execution_count": 41,
   "metadata": {},
   "outputs": [
    {
     "data": {
      "text/plain": [
       "'18℃'"
      ]
     },
     "execution_count": 41,
     "metadata": {},
     "output_type": "execute_result"
    }
   ],
   "source": [
    "#白天温度\n",
    "baitian1 = soup.select('.b b')[2].text\n",
    "baitian1"
   ]
  },
  {
   "cell_type": "code",
   "execution_count": 42,
   "metadata": {},
   "outputs": [
    {
     "data": {
      "text/plain": [
       "'15℃'"
      ]
     },
     "execution_count": 42,
     "metadata": {},
     "output_type": "execute_result"
    }
   ],
   "source": [
    "#夜晚温度\n",
    "yewan1 = soup.select('.b b')[3].text\n",
    "yewan1"
   ]
  },
  {
   "cell_type": "code",
   "execution_count": 43,
   "metadata": {},
   "outputs": [
    {
     "data": {
      "text/plain": [
       "'北风 1-2级'"
      ]
     },
     "execution_count": 43,
     "metadata": {},
     "output_type": "execute_result"
    }
   ],
   "source": [
    "#白天风向\n",
    "baitian2 = soup.select('.b td')[7].text\n",
    "baitian2"
   ]
  },
  {
   "cell_type": "code",
   "execution_count": 44,
   "metadata": {},
   "outputs": [
    {
     "data": {
      "text/plain": [
       "'北风 1-2级'"
      ]
     },
     "execution_count": 44,
     "metadata": {},
     "output_type": "execute_result"
    }
   ],
   "source": [
    "#夜晚风向\n",
    "yewan2 = soup.select('.b td')[8].text\n",
    "yewan2"
   ]
  },
  {
   "cell_type": "code",
   "execution_count": 41,
   "metadata": {
    "collapsed": true
   },
   "outputs": [],
   "source": [
    "#获取城市\n",
    "def getCity(url):\n",
    "    #newsurl='http://www.tianqihoubao.com/weather/province.aspx?id=450000'\n",
    "    header={'User-Agent':'Mozilla/5.0 (Windows NT 10.0; Win64; x64) AppleWebKit/537.36 (KHTML, like Gecko) Chrome/69.0.3497.100 Safari/537.36'}\n",
    "    res=requests.get(url, headers=header)\n",
    "    #res.encoding='utf-8'\n",
    "    soup1 = BeautifulSoup(res.text,'html.parser')\n",
    "    lianjie = soup1.select('.wdetail a')\n",
    "    lianjie1 = []\n",
    "    for i in lianjie:\n",
    "        lianjie1.append(i['href'].strip('top/').strip('.html'))\n",
    "    return lianjie1"
   ]
  },
  {
   "cell_type": "code",
   "execution_count": 42,
   "metadata": {
    "collapsed": true
   },
   "outputs": [],
   "source": [
    "#获取页面的天气信息\n",
    "def getTianqi(url):\n",
    "    result={}\n",
    "    header={'User-Agent':'Mozilla/5.0 (Windows NT 10.0; Win64; x64) AppleWebKit/537.36 (KHTML, like Gecko) Chrome/69.0.3497.100 Safari/537.36'}\n",
    "    res=requests.get(url, headers=header)\n",
    "    soup=BeautifulSoup(res.text,'html.parser')\n",
    "    result['标题'] = soup.select('.wdetail h1')[0].text.strip()\n",
    "    result['白天天气'] = soup.select('.legend')[0]['alt']\n",
    "    result['晚上天气'] = soup.select('.legend')[1]['alt']\n",
    "    result['白天温度'] = soup.select('.b b')[2].text\n",
    "    result['晚上温度'] = soup.select('.b b')[3].text\n",
    "    result['白天风向'] = soup.select('.b td')[7].text\n",
    "    result['晚上风向'] = soup.select('.b td')[8].text\n",
    "    print(\"成功!\")\n",
    "    print(result)\n",
    "    return result"
   ]
  },
  {
   "cell_type": "code",
   "execution_count": 43,
   "metadata": {
    "collapsed": true
   },
   "outputs": [],
   "source": [
    "#生成URL\n",
    "def get(url):\n",
    "    list_city = getCity(url)\n",
    "    xx = pd.date_range('20191001', periods=24)\n",
    "    list_date = []\n",
    "    for i in xx:\n",
    "        list_date.append(str(i).strip('00:00:00').replace('-',''))\n",
    "    return list_city, list_date"
   ]
  },
  {
   "cell_type": "code",
   "execution_count": null,
   "metadata": {
    "scrolled": true
   },
   "outputs": [
    {
     "name": "stdout",
     "output_type": "stream",
     "text": [
      "[]\n",
      "成功!\n",
      "{'标题': '2019年10月1日巴马天气预报查询', '白天天气': '多云', '晚上天气': '多云', '白天温度': '34℃', '晚上温度': '19℃', '白天风向': '东南风 1-2级', '晚上风向': '东南风 1-2级'}\n"
     ]
    }
   ],
   "source": [
    "url = 'http://www.tianqihoubao.com/weather/province.aspx?id=450000' #广西天气的链接\n",
    "list_city , list_date = get(url)\n",
    "tianqi = []\n",
    "url = 'http://www.tianqihoubao.com/lishi/{}/{}.html'\n",
    "for i in list_city:\n",
    "    for j in list_date:\n",
    "        newurl = url.format(i,j).replace(' ','')\n",
    "        tianqi.extend(getTianqi(newurl))"
   ]
  },
  {
   "cell_type": "code",
   "execution_count": null,
   "metadata": {
    "collapsed": true
   },
   "outputs": [],
   "source": []
  }
 ],
 "metadata": {
  "kernelspec": {
   "display_name": "Python 3",
   "language": "python",
   "name": "python3"
  },
  "language_info": {
   "codemirror_mode": {
    "name": "ipython",
    "version": 3
   },
   "file_extension": ".py",
   "mimetype": "text/x-python",
   "name": "python",
   "nbconvert_exporter": "python",
   "pygments_lexer": "ipython3",
   "version": "3.6.2"
  },
  "toc": {
   "base_numbering": 1,
   "nav_menu": {},
   "number_sections": true,
   "sideBar": true,
   "skip_h1_title": false,
   "title_cell": "Table of Contents",
   "title_sidebar": "Contents",
   "toc_cell": false,
   "toc_position": {},
   "toc_section_display": true,
   "toc_window_display": false
  }
 },
 "nbformat": 4,
 "nbformat_minor": 2
}
